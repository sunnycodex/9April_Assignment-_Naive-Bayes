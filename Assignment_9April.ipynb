{
 "cells": [
  {
   "cell_type": "markdown",
   "id": "8af18f0d-9eea-4fa3-a225-5355d946b5ff",
   "metadata": {},
   "source": [
    "Q1. What is Bayes' theorem?\n",
    "--\n",
    "---\n",
    "In statistics and probability theory, the Bayes’ theorem is a mathematical formula used to determine the conditional probability of events. Essentially, the Bayes’ theorem describes the probability of an event based on prior knowledge of the conditions that might be relevant to the event."
   ]
  },
  {
   "cell_type": "markdown",
   "id": "fa5d9276-7c65-43cc-a503-240502a24f6d",
   "metadata": {},
   "source": [
    "Q2. What is the formula for Bayes' theorem?\n",
    "--\n",
    "---\n",
    "The formula for Bayes' theorem is: P(A|B) = P(B|A)P(A) / P(B) \n",
    "\n",
    "Where:\n",
    "\n",
    "P(A|B) – the probability of event A occurring, given event B has occurred\n",
    "\n",
    "P(B|A) – the probability of event B occurring, given event A has occurred\n",
    "\n",
    "P(A) – the probability of event A\n",
    "\n",
    "P(B) – the probability of event B"
   ]
  },
  {
   "cell_type": "markdown",
   "id": "cf080fe4-4889-4a9d-9f36-b4359c828ee1",
   "metadata": {},
   "source": [
    "Q3. How is Bayes' theorem used in practice?\n",
    "--\n",
    "---\n",
    "Bayes' theorem has a wide range of practical applications. Here are a few examples:\n",
    "\n",
    "1. Naive Bayes’ Classifiers: This is probably the most famous application of Bayes’ Theorem. It's used in machine learning for classification problems.\n",
    "\n",
    "2. Discriminant Functions and Surfaces: A discriminant function is used to differentiate between categories or classes.\n",
    "\n",
    "3. Bayesian Parameter Estimation: This is another application where Bayes' theorem is used to estimate the parameters of a distribution.\n",
    "\n",
    "4. Risk Modeling: Bayes' theorem can be used to model the risk of lending money to borrowers or forecasting the probability of the success of an investment.\n",
    "\n",
    "5. Image Processing: In image processing, Bayes’ theorem can be used to update the probability that an image contains a particular object (such as a dog or a cat) given new data (such as the features of the image)."
   ]
  },
  {
   "cell_type": "markdown",
   "id": "8c148014-543c-4b7f-9e8c-2bd6d843d66d",
   "metadata": {},
   "source": [
    "Q4. What is the relationship between Bayes' theorem and conditional probability?\n",
    "--\n",
    "---\n",
    "Bayes' theorem and conditional probability are closely related. In fact, Bayes' theorem is a direct application of conditional probability.\n",
    "\n",
    "**Conditional probability** is the probability of an event given that another event has already occurred\n",
    ". For example, the probability that it will rain today given that it is cloudy would be a conditional probability.\n",
    "\n",
    "**Bayes' theorem**, on the other hand, is a formula that describes how to update the probabilities of hypotheses when given evidence. It follows simply from the axioms of conditional probability. Given a hypothesis H and evidence E, Bayes' theorem states that the relationship between the probability of the hypothesis before getting the evidence P(H) and the probability of the hypothesis after getting the evidence P(H|E) is:\n",
    "\n",
    "P(H|E) = P(E|H) * P(H) / P(E)"
   ]
  },
  {
   "cell_type": "markdown",
   "id": "b80eac44-43b3-4619-8b29-34cf6da31801",
   "metadata": {},
   "source": [
    "Q5. How do you choose which type of Naive Bayes classifier to use for any given problem?\n",
    "--\n",
    "----\n",
    "The type of Naive Bayes classifier to use for any given problem depends on the nature of the data.\n",
    "\n",
    "* **Gaussian Naive Bayes** is used when the features are continuous and follow a Gaussian distribution. This is a good choice for problems such as predicting whether a customer will churn or not, or whether a patient has a certain disease.\n",
    "* **Multinomial Naive Bayes** is used when the features are discrete counts, such as the number of words in a document or the number of times a customer has visited a website. This is a good choice for problems such as text classification or spam filtering.\n",
    "* **Bernoulli Naive Bayes** is used when the features are binary, such as whether or not a customer has purchased a certain product or whether or not a document contains a certain keyword. This is a good choice for problems such as fraud detection or anomaly detection.\n",
    "\n",
    "\n",
    "\n",
    "Here is a table that summarizes the different types of Naive Bayes classifiers and their typical use cases:\n",
    "\n",
    "| Type of Naive Bayes classifier | Features | Typical use cases |\n",
    "|---|---|---|\n",
    "| Gaussian Naive Bayes | Continuous | Predicting customer churn, predicting patient disease, predicting housing prices |\n",
    "| Multinomial Naive Bayes | Discrete counts | Text classification, spam filtering, sentiment analysis |\n",
    "| Bernoulli Naive Bayes | Binary | Fraud detection, anomaly detection, email classification |\n",
    "\n"
   ]
  },
  {
   "cell_type": "code",
   "execution_count": null,
   "id": "841b9516-960a-413e-bbc4-8137b95c99df",
   "metadata": {},
   "outputs": [],
   "source": []
  }
 ],
 "metadata": {
  "kernelspec": {
   "display_name": "Python 3 (ipykernel)",
   "language": "python",
   "name": "python3"
  },
  "language_info": {
   "codemirror_mode": {
    "name": "ipython",
    "version": 3
   },
   "file_extension": ".py",
   "mimetype": "text/x-python",
   "name": "python",
   "nbconvert_exporter": "python",
   "pygments_lexer": "ipython3",
   "version": "3.10.8"
  }
 },
 "nbformat": 4,
 "nbformat_minor": 5
}
